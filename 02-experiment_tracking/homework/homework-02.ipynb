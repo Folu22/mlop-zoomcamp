{
 "cells": [
  {
   "cell_type": "markdown",
   "id": "6c9f7984-ffa7-4308-b6ff-76996c320c55",
   "metadata": {},
   "source": [
    "# Homework-02: Experiment Tracking"
   ]
  },
  {
   "cell_type": "markdown",
   "id": "6e794a88-baad-4411-99fa-0c7775f9cb61",
   "metadata": {},
   "source": [
    "## Q1 : What's the version that you have?"
   ]
  },
  {
   "cell_type": "markdown",
   "id": "115e9d27-eb88-4c96-b557-b69573497680",
   "metadata": {},
   "source": [
    "### Answer1: The version of mlflow I have is version 2.13.0"
   ]
  },
  {
   "cell_type": "code",
   "execution_count": 1,
   "id": "f8dd6083-9a51-43e0-b590-0cbb2ebdbd71",
   "metadata": {},
   "outputs": [],
   "source": [
    "import mlflow"
   ]
  },
  {
   "cell_type": "code",
   "execution_count": 2,
   "id": "bb88811c-9b95-45b5-ab99-2a8efb99faf5",
   "metadata": {},
   "outputs": [
    {
     "name": "stdout",
     "output_type": "stream",
     "text": [
      "mlflow, version 2.13.0\n"
     ]
    }
   ],
   "source": [
    "!mlflow --version"
   ]
  },
  {
   "cell_type": "markdown",
   "id": "7117848a-631f-4026-923a-95499b4125f5",
   "metadata": {},
   "source": [
    "## Q2 : How many files were saved to OUTPUT_FOLDER?"
   ]
  },
  {
   "cell_type": "code",
   "execution_count": 5,
   "id": "3aa09a52-00da-4873-b337-3419fd1a5fd2",
   "metadata": {},
   "outputs": [],
   "source": [
    "!python preprocess_data.py --raw_data_path /workspaces/mlop-zoomcamp/02-experiment_tracking/data --dest_path ./output"
   ]
  },
  {
   "cell_type": "code",
   "execution_count": 6,
   "id": "e063fa50-922d-4983-8a97-4af499413aa0",
   "metadata": {},
   "outputs": [
    {
     "name": "stdout",
     "output_type": "stream",
     "text": [
      "dv.pkl\ttest.pkl  train.pkl  val.pkl\n"
     ]
    }
   ],
   "source": [
    "! ls ./output"
   ]
  },
  {
   "cell_type": "code",
   "execution_count": null,
   "id": "6cc0da93-d547-4354-8bcf-8406319cf2c4",
   "metadata": {},
   "outputs": [],
   "source": []
  }
 ],
 "metadata": {
  "kernelspec": {
   "display_name": "Python 3 (ipykernel)",
   "language": "python",
   "name": "python3"
  },
  "language_info": {
   "codemirror_mode": {
    "name": "ipython",
    "version": 3
   },
   "file_extension": ".py",
   "mimetype": "text/x-python",
   "name": "python",
   "nbconvert_exporter": "python",
   "pygments_lexer": "ipython3",
   "version": "3.9.19"
  }
 },
 "nbformat": 4,
 "nbformat_minor": 5
}
